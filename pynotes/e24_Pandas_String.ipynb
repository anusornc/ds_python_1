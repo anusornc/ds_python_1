{
 "cells": [
  {
   "cell_type": "markdown",
   "metadata": {},
   "source": [
    "# DataScience Course $\\circ$ Pandas $\\circ$ String\n",
    "By Dr Boontawee Suntisrivaraporn  \n",
    "<img src=\"https://1.bp.blogspot.com/-J1gxIX6Cp9w/Wy-lUTT-LqI/AAAAAAADIss/i8oWgsmB9OY8nRMc21XH_BA7AUCGkuGFgCLcBGAs/s1600/logo2.jpg\" width=600> \n",
    "<hr>"
   ]
  },
  {
   "cell_type": "markdown",
   "metadata": {},
   "source": [
    "### Topics\n",
    "- Recall vectorized operations on numerical data with numpy\n",
    "- List comprehension for string\n",
    "- pandas `.str` to the rescue\n",
    "    - `lower()`, `upper()`, `capitalize()`, `startswith()`, `split()`\n",
    "    - `get()`, slicing syntax `[...]`\n",
    "    - `extract()`, `findall()`"
   ]
  },
  {
   "cell_type": "code",
   "execution_count": 37,
   "metadata": {},
   "outputs": [
    {
     "data": {
      "text/plain": [
       "243"
      ]
     },
     "execution_count": 37,
     "metadata": {},
     "output_type": "execute_result"
    }
   ],
   "source": [
    "import pandas as pd\n",
    "import numpy as np\n",
    "import seaborn as sns\n",
    "%matplotlib inline\n",
    "\n",
    "ls_str = [\"Analytical Thinking\", \n",
    "          \"Business Understanding\", \n",
    "          \"Mathematics\", \n",
    "          \"Presentation and Communication\", \n",
    "          \"Programming\", \n",
    "          \"Statistics\",\n",
    "          \"Visualization\" ]\n",
    "countries = pd.read_csv(\"../data/GlobalLandTemperaturesByCountry.csv.zip\", usecols=['Country'])['Country'].drop_duplicates().reset_index(drop=True)\n",
    "len(countries)"
   ]
  },
  {
   "cell_type": "markdown",
   "metadata": {},
   "source": [
    "## Exercises\n",
    "- Run provided codes prior to the exercise question\n",
    "- Add a **new cell** to try your code\n",
    "- Type in Python code in the box to get the results as displayed right below\n",
    "\n",
    "__Warning__: results will be replaced, so make sure you add a new cell to try your code"
   ]
  },
  {
   "cell_type": "markdown",
   "metadata": {},
   "source": [
    "**$\\Rightarrow$ \n",
    "Use list comprehension and string method `.upper()` to make all the strings in `ls_str` upper case\n",
    "**"
   ]
  },
  {
   "cell_type": "code",
   "execution_count": 6,
   "metadata": {},
   "outputs": [
    {
     "data": {
      "text/plain": [
       "['ANALYTICAL THINKING',\n",
       " 'BUSINESS',\n",
       " 'MATHEMATICS',\n",
       " 'PRESENTATION',\n",
       " 'PROGRAMMING',\n",
       " 'STATISTICS']"
      ]
     },
     "execution_count": 6,
     "metadata": {},
     "output_type": "execute_result"
    }
   ],
   "source": []
  },
  {
   "cell_type": "markdown",
   "metadata": {},
   "source": [
    "**$\\Rightarrow$ \n",
    "Use vectorized string method in `pandas` to make each string in `ls_str` lower case\n",
    "**"
   ]
  },
  {
   "cell_type": "code",
   "execution_count": 24,
   "metadata": {},
   "outputs": [
    {
     "data": {
      "text/plain": [
       "['analytical thinking',\n",
       " 'business understanding',\n",
       " 'mathematics',\n",
       " 'presentation and communication',\n",
       " 'programming',\n",
       " 'statistics',\n",
       " 'visualization']"
      ]
     },
     "execution_count": 24,
     "metadata": {},
     "output_type": "execute_result"
    }
   ],
   "source": []
  },
  {
   "cell_type": "markdown",
   "metadata": {},
   "source": [
    "**$\\Rightarrow$ \n",
    "Create a `pd.Series` object from `ls_str` and call it `skills`. Then, print it out to observe.\n",
    "**"
   ]
  },
  {
   "cell_type": "code",
   "execution_count": 25,
   "metadata": {},
   "outputs": [
    {
     "data": {
      "text/plain": [
       "0               Analytical Thinking\n",
       "1            Business Understanding\n",
       "2                       Mathematics\n",
       "3    Presentation and Communication\n",
       "4                       Programming\n",
       "5                        Statistics\n",
       "6                     Visualization\n",
       "dtype: object"
      ]
     },
     "execution_count": 25,
     "metadata": {},
     "output_type": "execute_result"
    }
   ],
   "source": [
    "\n"
   ]
  },
  {
   "cell_type": "markdown",
   "metadata": {},
   "source": [
    "**$\\Rightarrow$ \n",
    "Use the `str` attribute to access the first letter in each string in `skills`\n",
    "**"
   ]
  },
  {
   "cell_type": "code",
   "execution_count": 26,
   "metadata": {},
   "outputs": [
    {
     "data": {
      "text/plain": [
       "0    A\n",
       "1    B\n",
       "2    M\n",
       "3    P\n",
       "4    P\n",
       "5    S\n",
       "6    V\n",
       "dtype: object"
      ]
     },
     "execution_count": 26,
     "metadata": {},
     "output_type": "execute_result"
    }
   ],
   "source": []
  },
  {
   "cell_type": "markdown",
   "metadata": {},
   "source": [
    "**$\\Rightarrow$ \n",
    "Use the `str` attribute and a vectorized string method to split each string by a blank space (i.e. \" \")\n",
    "**\n",
    "- View the result\n",
    "- Count the number of words in each string"
   ]
  },
  {
   "cell_type": "code",
   "execution_count": 27,
   "metadata": {},
   "outputs": [
    {
     "data": {
      "text/plain": [
       "0                [Analytical, Thinking]\n",
       "1             [Business, Understanding]\n",
       "2                         [Mathematics]\n",
       "3    [Presentation, and, Communication]\n",
       "4                         [Programming]\n",
       "5                          [Statistics]\n",
       "6                       [Visualization]\n",
       "dtype: object"
      ]
     },
     "execution_count": 27,
     "metadata": {},
     "output_type": "execute_result"
    }
   ],
   "source": []
  },
  {
   "cell_type": "code",
   "execution_count": 28,
   "metadata": {},
   "outputs": [
    {
     "data": {
      "text/plain": [
       "0    2\n",
       "1    2\n",
       "2    1\n",
       "3    3\n",
       "4    1\n",
       "5    1\n",
       "6    1\n",
       "dtype: int64"
      ]
     },
     "execution_count": 28,
     "metadata": {},
     "output_type": "execute_result"
    }
   ],
   "source": []
  },
  {
   "cell_type": "markdown",
   "metadata": {},
   "source": [
    "**$\\Rightarrow$ \n",
    "List all the country names in `countries` that start with `T`, and end with a vowel (i.e. `[a, e, i, o, u]`)\n",
    "**"
   ]
  },
  {
   "cell_type": "code",
   "execution_count": 31,
   "metadata": {},
   "outputs": [
    {
     "data": {
      "text/plain": [
       "218               Tanzania\n",
       "220            Timor Leste\n",
       "221                   Togo\n",
       "222                  Tonga\n",
       "223    Trinidad And Tobago\n",
       "224                Tunisia\n",
       "Name: Country, dtype: object"
      ]
     },
     "execution_count": 31,
     "metadata": {},
     "output_type": "execute_result"
    }
   ],
   "source": []
  },
  {
   "cell_type": "markdown",
   "metadata": {},
   "source": [
    "**$\\Rightarrow$ \n",
    "What are the five most common start alphabet of the country names\n",
    "**"
   ]
  },
  {
   "cell_type": "code",
   "execution_count": 35,
   "metadata": {},
   "outputs": [
    {
     "data": {
      "text/plain": [
       "S    33\n",
       "C    21\n",
       "B    20\n",
       "M    19\n",
       "A    17\n",
       "Name: Country, dtype: int64"
      ]
     },
     "execution_count": 35,
     "metadata": {},
     "output_type": "execute_result"
    }
   ],
   "source": []
  },
  {
   "cell_type": "code",
   "execution_count": 41,
   "metadata": {},
   "outputs": [
    {
     "data": {
      "image/png": "[encoded data removed]",
      "text/plain": [
       "<matplotlib.figure.Figure at 0x1b78084dd68>"
      ]
     },
     "metadata": {},
     "output_type": "display_data"
    }
   ],
   "source": [
    "#optional\n"
   ]
  },
  {
   "cell_type": "code",
   "execution_count": 59,
   "metadata": {},
   "outputs": [
    {
     "data": {
      "text/plain": [
       "<matplotlib.axes._subplots.AxesSubplot at 0x1b780b29710>"
      ]
     },
     "execution_count": 59,
     "metadata": {},
     "output_type": "execute_result"
    },
    {
     "data": {
      "image/png": "[encoded data removed]",
      "text/plain": [
       "<matplotlib.figure.Figure at 0x1b780b80668>"
      ]
     },
     "metadata": {},
     "output_type": "display_data"
    }
   ],
   "source": [
    "# optional\n",
    "\n",
    "\n",
    "\n",
    "\n"
   ]
  },
  {
   "cell_type": "markdown",
   "metadata": {},
   "source": [
    "**$\\Rightarrow$ \n",
    "What is the \"shortest\" and \"longest\" country names?\n",
    "**"
   ]
  },
  {
   "cell_type": "code",
   "execution_count": 42,
   "metadata": {},
   "outputs": [
    {
     "data": {
      "text/plain": [
       "14     Asia\n",
       "45     Chad\n",
       "55     Cuba\n",
       "75     Fiji\n",
       "92     Guam\n",
       "106    Iran\n",
       "107    Iraq\n",
       "122    Laos\n",
       "136    Mali\n",
       "159    Niue\n",
       "165    Oman\n",
       "173    Peru\n",
       "221    Togo\n",
       "Name: Country, dtype: object"
      ]
     },
     "execution_count": 42,
     "metadata": {},
     "output_type": "execute_result"
    }
   ],
   "source": []
  },
  {
   "cell_type": "code",
   "execution_count": 43,
   "metadata": {},
   "outputs": [
    {
     "data": {
      "text/plain": [
       "205    South Georgia And The South Sandwich Isla\n",
       "Name: Country, dtype: object"
      ]
     },
     "execution_count": 43,
     "metadata": {},
     "output_type": "execute_result"
    }
   ],
   "source": []
  },
  {
   "cell_type": "markdown",
   "metadata": {},
   "source": [
    "<hr>\n",
    "## Finished!"
   ]
  }
 ],
 "metadata": {
  "kernelspec": {
   "display_name": "Python 3",
   "language": "python",
   "name": "python3"
  },
  "language_info": {
   "codemirror_mode": {
    "name": "ipython",
    "version": 3
   },
   "file_extension": ".py",
   "mimetype": "text/x-python",
   "name": "python",
   "nbconvert_exporter": "python",
   "pygments_lexer": "ipython3",
   "version": "3.6.4"
  }
 },
 "nbformat": 4,
 "nbformat_minor": 2
}
