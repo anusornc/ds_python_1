{
 "cells": [
  {
   "cell_type": "markdown",
   "metadata": {},
   "source": [
    "# DataScience Course $\\circ$ Python Programming $\\circ$ Numpy Arrays\n",
    "By Dr Boontawee Suntisrivaraporn  \n",
    "<img src=\"https://1.bp.blogspot.com/-J1gxIX6Cp9w/Wy-lUTT-LqI/AAAAAAADIss/i8oWgsmB9OY8nRMc21XH_BA7AUCGkuGFgCLcBGAs/s1600/logo2.jpg\" width=600> \n",
    "<hr>"
   ]
  },
  {
   "cell_type": "markdown",
   "metadata": {},
   "source": [
    "### Topics\n",
    "- Using numpy \n",
    "    - package installation\n",
    "    - numpy import\n",
    "- numpy arrays\n",
    "- linspace\n",
    "- eye\n",
    "- random"
   ]
  },
  {
   "cell_type": "code",
   "execution_count": 86,
   "metadata": {},
   "outputs": [],
   "source": [
    "import numpy as np\n",
    "import pandas as pd\n",
    "import matplotlib.pyplot as plt\n",
    "import seaborn as sns\n",
    "%matplotlib inline\n",
    "\n",
    "rs = np.random.RandomState(0)\n",
    "M = rs.randint(1, 100, 20)\n",
    "M_cumsum = np.ones(20)*M.mean()\n",
    "\n",
    "def plot_M():\n",
    "    plt.figure(figsize=(10,5))\n",
    "    x = list(range(1, len(M)+1))\n",
    "    sns.barplot(x, M)\n",
    "    sns.pointplot(x, M_cumsum, markers='+') ;"
   ]
  },
  {
   "cell_type": "markdown",
   "metadata": {},
   "source": [
    "## Exercises\n",
    "- Run provided codes prior to the exercise question\n",
    "- Add a **new cell** to try your code\n",
    "- Type in Python code in the box to get the results as displayed right below\n",
    "\n",
    "__Warning__: results will be replaced, so make sure you add a new cell to try your code"
   ]
  },
  {
   "cell_type": "markdown",
   "metadata": {},
   "source": [
    "**$\\Rightarrow$ \n",
    "Import the package `numpy` as `np`\n",
    "**"
   ]
  },
  {
   "cell_type": "code",
   "execution_count": 2,
   "metadata": {},
   "outputs": [],
   "source": []
  },
  {
   "cell_type": "markdown",
   "metadata": {
    "collapsed": true
   },
   "source": [
    "**$\\Rightarrow$ \n",
    "Use `arange` to create a numpy array of 100 items, assign it to `x`\n",
    "**"
   ]
  },
  {
   "cell_type": "code",
   "execution_count": 5,
   "metadata": {},
   "outputs": [],
   "source": []
  },
  {
   "cell_type": "markdown",
   "metadata": {},
   "source": [
    "**$\\Rightarrow$\n",
    "Use `linspace` to create a numpy array of 100 items, assign it to `y`\n",
    "**"
   ]
  },
  {
   "cell_type": "code",
   "execution_count": 8,
   "metadata": {},
   "outputs": [],
   "source": []
  },
  {
   "cell_type": "markdown",
   "metadata": {},
   "source": [
    "**$\\Rightarrow$\n",
    "Generate a [10, 5] matrix (2d array) of normally distributed numbers, assign it to `M1`\n",
    "**"
   ]
  },
  {
   "cell_type": "code",
   "execution_count": 38,
   "metadata": {},
   "outputs": [],
   "source": []
  },
  {
   "cell_type": "markdown",
   "metadata": {},
   "source": [
    "**$\\Rightarrow$\n",
    "Compute the mean along all the 10 rows of `M`\n",
    "**"
   ]
  },
  {
   "cell_type": "code",
   "execution_count": 39,
   "metadata": {},
   "outputs": [
    {
     "data": {
      "text/plain": [
       "array([ 0.04539626, -0.09736171, -0.21167202, -1.13471753,  0.02008625,\n",
       "        0.31598604,  0.70921243,  0.56842259, -0.07154144,  0.42734439])"
      ]
     },
     "execution_count": 39,
     "metadata": {},
     "output_type": "execute_result"
    }
   ],
   "source": []
  },
  {
   "cell_type": "markdown",
   "metadata": {},
   "source": [
    "**$\\Rightarrow$\n",
    "Compute the max along all the 5 columns of `M`\n",
    "**"
   ]
  },
  {
   "cell_type": "code",
   "execution_count": 15,
   "metadata": {},
   "outputs": [
    {
     "data": {
      "text/plain": [
       "array([ 1.50781878,  2.0167719 ,  1.13572257,  1.54879496,  1.1662335 ])"
      ]
     },
     "execution_count": 15,
     "metadata": {},
     "output_type": "execute_result"
    }
   ],
   "source": []
  },
  {
   "cell_type": "markdown",
   "metadata": {
    "collapsed": true
   },
   "source": [
    "**$\\Rightarrow$\n",
    "Create the following matrix `M2` with the help of `eye`, `ones`, and `arange` functions\n",
    "**\n",
    "```\n",
    "array([[  2.,   2.,   3.,   4.,   5.],\n",
    "       [  6.,   8.,   8.,   9.,  10.],\n",
    "       [ 11.,  12.,  14.,  14.,  15.],\n",
    "       [ 16.,  17.,  18.,  20.,  20.],\n",
    "       [ 21.,  22.,  23.,  24.,  26.]])\n",
    "```"
   ]
  },
  {
   "cell_type": "code",
   "execution_count": 35,
   "metadata": {},
   "outputs": [
    {
     "data": {
      "text/plain": [
       "array([[  1.,   1.,   1.,   1.,   1.],\n",
       "       [  1.,   7.,   1.,   1.,   1.],\n",
       "       [  1.,   1.,  13.,   1.,   1.],\n",
       "       [  1.,   1.,   1.,  19.,   1.],\n",
       "       [  1.,   1.,   1.,   1.,  25.]])"
      ]
     },
     "execution_count": 35,
     "metadata": {},
     "output_type": "execute_result"
    }
   ],
   "source": []
  },
  {
   "cell_type": "markdown",
   "metadata": {},
   "source": [
    "**$\\Rightarrow$\n",
    "Find the index of the maximum value in `M`\n",
    "**"
   ]
  },
  {
   "cell_type": "code",
   "execution_count": 24,
   "metadata": {},
   "outputs": [
    {
     "data": {
      "text/plain": [
       "11"
      ]
     },
     "execution_count": 24,
     "metadata": {},
     "output_type": "execute_result"
    }
   ],
   "source": []
  },
  {
   "cell_type": "markdown",
   "metadata": {
    "collapsed": true
   },
   "source": [
    "** OPTIONAL $\\Rightarrow$\n",
    "Compute the cumulative sum of `M` using the method `cumsum` and assign it to `M_cumsum`\n",
    "Then rerun the function `plot_M()`\n",
    "**"
   ]
  },
  {
   "cell_type": "code",
   "execution_count": 84,
   "metadata": {},
   "outputs": [],
   "source": []
  },
  {
   "cell_type": "code",
   "execution_count": 87,
   "metadata": {},
   "outputs": [
    {
     "data": {
      "image/png": "[encoded data removed]",
      "text/plain": [
       "<matplotlib.figure.Figure at 0x1bf392b93c8>"
      ]
     },
     "metadata": {},
     "output_type": "display_data"
    }
   ],
   "source": []
  },
  {
   "cell_type": "markdown",
   "metadata": {},
   "source": [
    "<hr>\n",
    "## Finished !"
   ]
  }
 ],
 "metadata": {
  "kernelspec": {
   "display_name": "Python 3",
   "language": "python",
   "name": "python3"
  },
  "language_info": {
   "codemirror_mode": {
    "name": "ipython",
    "version": 3
   },
   "file_extension": ".py",
   "mimetype": "text/x-python",
   "name": "python",
   "nbconvert_exporter": "python",
   "pygments_lexer": "ipython3",
   "version": "3.6.4"
  }
 },
 "nbformat": 4,
 "nbformat_minor": 2
}
