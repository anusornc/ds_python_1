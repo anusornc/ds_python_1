{
 "cells": [
  {
   "cell_type": "markdown",
   "metadata": {},
   "source": [
    "## DataScience Course $\\circ$ Environment $\\circ$ Python & Jupyter\n",
    "By Dr Boontawee Suntisrivaraporn  \n",
    "<img src=\"https://1.bp.blogspot.com/-J1gxIX6Cp9w/Wy-lUTT-LqI/AAAAAAADIss/i8oWgsmB9OY8nRMc21XH_BA7AUCGkuGFgCLcBGAs/s1600/logo2.jpg\" width=600> \n",
    "<hr>"
   ]
  },
  {
   "cell_type": "markdown",
   "metadata": {},
   "source": [
    "### Topics\n",
    "- What is Jupyter?\n",
    "- How to install and use it?\n",
    "- Python programming language\n",
    "- Markdown blocks\n",
    "- Jupyter shell commands\n",
    "- Jupyter magic commands"
   ]
  },
  {
   "cell_type": "markdown",
   "metadata": {},
   "source": [
    "```\n",
    "$> jupyter notebook\n",
    "```"
   ]
  },
  {
   "cell_type": "code",
   "execution_count": 1,
   "metadata": {},
   "outputs": [
    {
     "data": {
      "text/plain": [
       "'Shift + Enter'"
      ]
     },
     "execution_count": 1,
     "metadata": {},
     "output_type": "execute_result"
    }
   ],
   "source": [
    "\"Shift + Enter\""
   ]
  },
  {
   "cell_type": "code",
   "execution_count": 2,
   "metadata": {},
   "outputs": [
    {
     "data": {
      "text/plain": [
       "'Menu > Cell > Run Cells'"
      ]
     },
     "execution_count": 2,
     "metadata": {},
     "output_type": "execute_result"
    }
   ],
   "source": [
    "\"Menu > Cell > Run Cells\""
   ]
  },
  {
   "cell_type": "code",
   "execution_count": 2,
   "metadata": {},
   "outputs": [
    {
     "data": {
      "text/plain": [
       "'Menu > File > Download as > .py'"
      ]
     },
     "execution_count": 2,
     "metadata": {},
     "output_type": "execute_result"
    }
   ],
   "source": [
    "\"Menu > File > Download as > .py\" "
   ]
  },
  {
   "cell_type": "code",
   "execution_count": 5,
   "metadata": {},
   "outputs": [
    {
     "data": {
      "text/plain": [
       "'$> pip install jupyter'"
      ]
     },
     "execution_count": 5,
     "metadata": {},
     "output_type": "execute_result"
    }
   ],
   "source": [
    "\"$> pip install jupyter\""
   ]
  },
  {
   "cell_type": "code",
   "execution_count": 6,
   "metadata": {},
   "outputs": [
    {
     "name": "stdout",
     "output_type": "stream",
     "text": [
      "$> pip install pandas\n",
      "$> pip install numpy\n",
      "$> pip install matplotlib\n",
      "$> pip install seaborn\n",
      "$> pip install sklearn\n"
     ]
    }
   ],
   "source": [
    "print(\"$> pip install pandas\")\n",
    "print(\"$> pip install numpy\")\n",
    "print(\"$> pip install matplotlib\")\n",
    "print(\"$> pip install seaborn\")\n",
    "print(\"$> pip install sklearn\")"
   ]
  },
  {
   "cell_type": "markdown",
   "metadata": {},
   "source": [
    "### $\\Rightarrow$ Walk-through coding\n",
    "Pay attention to the class and then code through, step by step"
   ]
  },
  {
   "cell_type": "code",
   "execution_count": 5,
   "metadata": {},
   "outputs": [
    {
     "name": "stdout",
     "output_type": "stream",
     "text": [
      "\u001b[31mCPF.BK.csv\u001b[m\u001b[m*\r\n",
      "\u001b[31mEcommerce Customers\u001b[m\u001b[m*\r\n",
      "\u001b[31mGOOG.csv\u001b[m\u001b[m*\r\n",
      "\u001b[31mGlobalLandTemperaturesByCity.csv.zip\u001b[m\u001b[m*\r\n",
      "\u001b[31mGlobalLandTemperaturesByCountry.csv.zip\u001b[m\u001b[m*\r\n",
      "\u001b[31mGlobalLandTemperaturesByMajorCity.csv.zip\u001b[m\u001b[m*\r\n",
      "\u001b[31mGlobalLandTemperatures_Thailand.xlsx\u001b[m\u001b[m*\r\n",
      "\u001b[31mGlobalTemperatures.csv\u001b[m\u001b[m*\r\n",
      "\u001b[31mImmunotherapy.csv\u001b[m\u001b[m*\r\n",
      "\u001b[31mPurchases.csv\u001b[m\u001b[m*\r\n",
      "\u001b[31mPurchases_de.xls\u001b[m\u001b[m*\r\n",
      "\u001b[31mPurchases_en.xls\u001b[m\u001b[m*\r\n",
      "\u001b[31mSalaries.csv\u001b[m\u001b[m*\r\n",
      "\u001b[31mUSA_Housing.csv\u001b[m\u001b[m*\r\n",
      "advertising.csv\r\n",
      "\u001b[31mbnk48.csv\u001b[m\u001b[m*\r\n",
      "\u001b[31mcreditcard.csv\u001b[m\u001b[m*\r\n",
      "\u001b[31meCommerce.csv\u001b[m\u001b[m*\r\n",
      "\u001b[31mheroes_information.csv\u001b[m\u001b[m*\r\n",
      "\u001b[31mtemp_annual.csv\u001b[m\u001b[m*\r\n",
      "\u001b[31mtemp_monthly.csv\u001b[m\u001b[m*\r\n",
      "titanic.csv\r\n"
     ]
    }
   ],
   "source": [
    "!"
   ]
  },
  {
   "cell_type": "code",
   "execution_count": 7,
   "metadata": {},
   "outputs": [],
   "source": [
    "import pandas as pd"
   ]
  },
  {
   "cell_type": "code",
   "execution_count": 10,
   "metadata": {},
   "outputs": [],
   "source": [
    "import numpy as np"
   ]
  },
  {
   "cell_type": "code",
   "execution_count": 11,
   "metadata": {},
   "outputs": [],
   "source": [
    "import matplotlib.pyplot as plt"
   ]
  },
  {
   "cell_type": "code",
   "execution_count": 12,
   "metadata": {},
   "outputs": [
    {
     "name": "stderr",
     "output_type": "stream",
     "text": [
      "/Users/admin/anaconda3/lib/python3.6/importlib/_bootstrap.py:219: RuntimeWarning: numpy.dtype size changed, may indicate binary incompatibility. Expected 96, got 88\n",
      "  return f(*args, **kwds)\n",
      "/Users/admin/anaconda3/lib/python3.6/importlib/_bootstrap.py:219: RuntimeWarning: numpy.dtype size changed, may indicate binary incompatibility. Expected 96, got 88\n",
      "  return f(*args, **kwds)\n"
     ]
    }
   ],
   "source": [
    "import seaborn as sns"
   ]
  },
  {
   "cell_type": "code",
   "execution_count": 13,
   "metadata": {},
   "outputs": [
    {
     "name": "stderr",
     "output_type": "stream",
     "text": [
      "/Users/admin/anaconda3/lib/python3.6/importlib/_bootstrap.py:219: RuntimeWarning: numpy.dtype size changed, may indicate binary incompatibility. Expected 96, got 88\n",
      "  return f(*args, **kwds)\n"
     ]
    }
   ],
   "source": [
    "import sklearn"
   ]
  },
  {
   "cell_type": "code",
   "execution_count": 14,
   "metadata": {},
   "outputs": [
    {
     "name": "stderr",
     "output_type": "stream",
     "text": [
      "/Users/admin/anaconda3/lib/python3.6/importlib/_bootstrap.py:219: RuntimeWarning: numpy.dtype size changed, may indicate binary incompatibility. Expected 96, got 88\n",
      "  return f(*args, **kwds)\n",
      "/Users/admin/anaconda3/lib/python3.6/site-packages/h5py/__init__.py:36: FutureWarning: Conversion of the second argument of issubdtype from `float` to `np.floating` is deprecated. In future, it will be treated as `np.float64 == np.dtype(float).type`.\n",
      "  from ._conv import register_converters as _register_converters\n",
      "/Users/admin/anaconda3/lib/python3.6/importlib/_bootstrap.py:219: RuntimeWarning: numpy.dtype size changed, may indicate binary incompatibility. Expected 96, got 88\n",
      "  return f(*args, **kwds)\n"
     ]
    }
   ],
   "source": [
    "import tensorflow"
   ]
  },
  {
   "cell_type": "markdown",
   "metadata": {},
   "source": [
    "### Markdown"
   ]
  },
  {
   "cell_type": "markdown",
   "metadata": {},
   "source": []
  },
  {
   "cell_type": "markdown",
   "metadata": {},
   "source": []
  },
  {
   "cell_type": "markdown",
   "metadata": {},
   "source": [
    "Using the following gradient descent formula: \n",
    "$$ \\Theta \\leftarrow \\Theta - \\alpha \\frac{1}{m} \\sum\\limits_{i=1}^{m} \\left( h_\\Theta(x^{(i)}) - y^{(i)} \\right) $$"
   ]
  },
  {
   "cell_type": "markdown",
   "metadata": {},
   "source": [
    "### Shell commands"
   ]
  },
  {
   "cell_type": "code",
   "execution_count": 1,
   "metadata": {},
   "outputs": [
    {
     "name": "stdout",
     "output_type": "stream",
     "text": [
      " Volume in drive D is DATA\n",
      " Volume Serial Number is 8C75-F787\n",
      "\n",
      " Directory of D:\\Users\\s82932\\DataProjects\\_Others\\DS_Course_1\\pyn\n",
      "\n",
      "2018-03-21  01:20 PM    <DIR>          .\n",
      "2018-03-21  01:20 PM    <DIR>          ..\n",
      "2018-03-17  03:32 PM    <DIR>          .ipynb_checkpoints\n",
      "2018-03-21  01:20 PM             8,831 01_Pyhton_and_Jupyter.ipynb\n",
      "2018-03-17  01:55 PM            10,374 02_Conditionals.ipynb\n",
      "2018-03-17  01:59 PM            10,306 03_Loops.ipynb\n",
      "2018-03-17  02:42 PM             9,955 04_ListComprehension.ipynb\n",
      "2018-03-19  10:30 AM            14,229 e21_SF_Salaries_Exercise.ipynb\n",
      "2016-08-17  05:26 PM            18,706 e22_Purchases_Exercise .ipynb\n",
      "2018-03-17  02:48 PM             5,227 q1_DataQuiz_Salary.ipynb\n",
      "               7 File(s)         77,628 bytes\n",
      "               3 Dir(s)   3,397,283,840 bytes free\n"
     ]
    }
   ],
   "source": []
  },
  {
   "cell_type": "code",
   "execution_count": 9,
   "metadata": {
    "scrolled": true
   },
   "outputs": [
    {
     "name": "stdout",
     "output_type": "stream",
     "text": [
      " Volume in drive D is DATA\n",
      " Volume Serial Number is 8C75-F787\n",
      "\n",
      " Directory of D:\\Users\\s82932\\DataProjects\\_Others\\DS_Course_1\\data\n",
      "\n",
      "2018-03-17  03:25 PM    <DIR>          .\n",
      "2018-03-17  03:25 PM    <DIR>          ..\n",
      "2016-08-17  01:39 AM         2,745,852 Purchases.csv\n",
      "2016-08-12  04:00 PM        16,239,776 Salaries.csv\n",
      "               2 File(s)     18,985,628 bytes\n",
      "               2 Dir(s)   3,396,210,688 bytes free\n"
     ]
    }
   ],
   "source": []
  },
  {
   "cell_type": "markdown",
   "metadata": {},
   "source": [
    "### Magic commands"
   ]
  },
  {
   "cell_type": "markdown",
   "metadata": {},
   "source": [
    "`np.<TAB>`"
   ]
  },
  {
   "cell_type": "code",
   "execution_count": null,
   "metadata": {
    "collapsed": true
   },
   "outputs": [],
   "source": []
  },
  {
   "cell_type": "markdown",
   "metadata": {},
   "source": [
    "`np.arange<SHIFT+TAB>`"
   ]
  },
  {
   "cell_type": "code",
   "execution_count": null,
   "metadata": {
    "collapsed": true
   },
   "outputs": [],
   "source": []
  },
  {
   "cell_type": "markdown",
   "metadata": {},
   "source": [
    "`np.arange?`"
   ]
  },
  {
   "cell_type": "code",
   "execution_count": null,
   "metadata": {
    "collapsed": true
   },
   "outputs": [],
   "source": []
  },
  {
   "cell_type": "markdown",
   "metadata": {},
   "source": [
    "`np.arange??`"
   ]
  },
  {
   "cell_type": "code",
   "execution_count": null,
   "metadata": {
    "collapsed": true
   },
   "outputs": [],
   "source": []
  },
  {
   "cell_type": "code",
   "execution_count": 11,
   "metadata": {},
   "outputs": [
    {
     "name": "stdout",
     "output_type": "stream",
     "text": [
      "The slowest run took 183.39 times longer than the fastest. This could mean that an intermediate result is being cached.\n",
      "100000 loops, best of 3: 2.07 µs per loop\n"
     ]
    }
   ],
   "source": []
  },
  {
   "cell_type": "code",
   "execution_count": 12,
   "metadata": {},
   "outputs": [
    {
     "name": "stdout",
     "output_type": "stream",
     "text": [
      "1000 loops, best of 3: 490 µs per loop\n"
     ]
    }
   ],
   "source": []
  },
  {
   "cell_type": "markdown",
   "metadata": {},
   "source": [
    "#### Finished!\n",
    "<hr>"
   ]
  }
 ],
 "metadata": {
  "kernelspec": {
   "display_name": "Python 3",
   "language": "python",
   "name": "python3"
  },
  "language_info": {
   "codemirror_mode": {
    "name": "ipython",
    "version": 3
   },
   "file_extension": ".py",
   "mimetype": "text/x-python",
   "name": "python",
   "nbconvert_exporter": "python",
   "pygments_lexer": "ipython3",
   "version": "3.6.4"
  }
 },
 "nbformat": 4,
 "nbformat_minor": 2
}
