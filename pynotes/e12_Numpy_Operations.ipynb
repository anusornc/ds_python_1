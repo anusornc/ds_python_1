{
 "cells": [
  {
   "cell_type": "markdown",
   "metadata": {},
   "source": [
    "# DataScience Course $\\circ$ Numpy $\\circ$ Vectorized Operations & Broadcasting\n",
    "By Dr Boontawee Suntisrivaraporn  \n",
    "<img src=\"https://1.bp.blogspot.com/-J1gxIX6Cp9w/Wy-lUTT-LqI/AAAAAAADIss/i8oWgsmB9OY8nRMc21XH_BA7AUCGkuGFgCLcBGAs/s1600/logo2.jpg\" width=600> \n",
    "<hr>"
   ]
  },
  {
   "cell_type": "markdown",
   "metadata": {},
   "source": [
    "### Topics\n",
    "- Vectorized operations\n",
    "- Broadcasting\n",
    "- Selection\n",
    "- Reduce operations"
   ]
  },
  {
   "cell_type": "code",
   "execution_count": 31,
   "metadata": {},
   "outputs": [],
   "source": [
    "import numpy as np\n",
    "import pandas as pd\n",
    "import matplotlib.pyplot as plt\n",
    "import seaborn as sns\n",
    "%matplotlib inline\n",
    "\n",
    "sns.set(rc={'figure.figsize':(14, 5)})\n",
    "rs = np.random.RandomState(0)\n",
    "\n",
    "M1 = rs.randint(1, 100, 15).reshape(3, 5)\n",
    "M2 = rs.randint(1, 100, 5)\n",
    "M3 = np.arange(1, 4)\n",
    "\n",
    "r = np.arange(10) + 1\n",
    "def plot_r():\n",
    "    plt.figure(figsize=(10,5))\n",
    "    pd.DataFrame(dict(\n",
    "        circumfirence = r_circ,\n",
    "        area = r_area\n",
    "    ), index = r\n",
    "                ).plot() ;"
   ]
  },
  {
   "cell_type": "markdown",
   "metadata": {},
   "source": [
    "## Exercises\n",
    "- Run provided codes prior to the exercise question\n",
    "- Add a **new cell** to try your code\n",
    "- Type in Python code in the box to get the results as displayed right below\n",
    "\n",
    "__Warning__: results will be replaced, so make sure you add a new cell to try your code"
   ]
  },
  {
   "cell_type": "markdown",
   "metadata": {},
   "source": [
    "**$\\Rightarrow$ \n",
    "Print the shape of each of the numpy arrays `M1`, `M2`, and `M3`\n",
    "**"
   ]
  },
  {
   "cell_type": "code",
   "execution_count": null,
   "metadata": {},
   "outputs": [],
   "source": []
  },
  {
   "cell_type": "code",
   "execution_count": 12,
   "metadata": {},
   "outputs": [
    {
     "name": "stdout",
     "output_type": "stream",
     "text": [
      "(3, 5)\n",
      "(5,)\n",
      "(3,)\n"
     ]
    }
   ],
   "source": [
    "\n",
    "\n"
   ]
  },
  {
   "cell_type": "markdown",
   "metadata": {
    "collapsed": true
   },
   "source": [
    "**$\\Rightarrow$ \n",
    "Perform the addition between `M1` and `M2` with broadcasting.\n",
    "What is the shape of the resulting array?\n",
    "**"
   ]
  },
  {
   "cell_type": "code",
   "execution_count": 4,
   "metadata": {},
   "outputs": [
    {
     "data": {
      "text/plain": [
       "array([[111,  88, 153, 115, 157],\n",
       "       [ 76, 124, 110,  84, 177],\n",
       "       [137, 129, 177,  60, 148]])"
      ]
     },
     "execution_count": 4,
     "metadata": {},
     "output_type": "execute_result"
    }
   ],
   "source": []
  },
  {
   "cell_type": "markdown",
   "metadata": {},
   "source": [
    "**$\\Rightarrow$ \n",
    "Perform the multiplication between `M2` and `M3` with broadcasting.\n",
    "Why is there an error?\n",
    "**"
   ]
  },
  {
   "cell_type": "code",
   "execution_count": 9,
   "metadata": {},
   "outputs": [
    {
     "ename": "ValueError",
     "evalue": "operands could not be broadcast together with shapes (5,) (3,) ",
     "output_type": "error",
     "traceback": [
      "\u001b[0;31m---------------------------------------------------------------------------\u001b[0m",
      "\u001b[0;31mValueError\u001b[0m                                Traceback (most recent call last)",
      "\u001b[0;32m<ipython-input-9-33f2c9d51633>\u001b[0m in \u001b[0;36m<module>\u001b[0;34m()\u001b[0m\n\u001b[0;32m----> 1\u001b[0;31m \u001b[0mM2\u001b[0m \u001b[1;33m*\u001b[0m \u001b[0mM3\u001b[0m\u001b[1;33m\u001b[0m\u001b[0m\n\u001b[0m",
      "\u001b[0;31mValueError\u001b[0m: operands could not be broadcast together with shapes (5,) (3,) "
     ]
    }
   ],
   "source": []
  },
  {
   "cell_type": "markdown",
   "metadata": {},
   "source": [
    "**$\\Rightarrow$\n",
    "Try reshaping `M2` to `(5, 1)` and do the multiplication again. What is the shape of the resulting array?\n",
    "**"
   ]
  },
  {
   "cell_type": "code",
   "execution_count": 13,
   "metadata": {},
   "outputs": [
    {
     "data": {
      "text/plain": [
       "array([[ 66, 132, 198],\n",
       "       [ 40,  80, 120],\n",
       "       [ 88, 176, 264],\n",
       "       [ 47,  94, 141],\n",
       "       [ 89, 178, 267]])"
      ]
     },
     "execution_count": 13,
     "metadata": {},
     "output_type": "execute_result"
    }
   ],
   "source": []
  },
  {
   "cell_type": "markdown",
   "metadata": {},
   "source": [
    "**$\\Rightarrow$\n",
    "Use vectorize operations (and broadcasting) to compute the circumference and area of circles with radius specified in `r`\n",
    "**"
   ]
  },
  {
   "cell_type": "code",
   "execution_count": 34,
   "metadata": {},
   "outputs": [],
   "source": [
    "r_circ = None\n",
    "r_area = None\n",
    "#plot_r()"
   ]
  },
  {
   "cell_type": "code",
   "execution_count": 32,
   "metadata": {},
   "outputs": [
    {
     "data": {
      "text/plain": [
       "<matplotlib.figure.Figure at 0x1d24a12f9e8>"
      ]
     },
     "metadata": {},
     "output_type": "display_data"
    },
    {
     "data": {
      "image/png": "[encoded data removed]",
      "text/plain": [
       "<matplotlib.figure.Figure at 0x1d24a11b4e0>"
      ]
     },
     "metadata": {},
     "output_type": "display_data"
    }
   ],
   "source": []
  },
  {
   "cell_type": "markdown",
   "metadata": {},
   "source": [
    "**$\\Rightarrow$\n",
    "Access the element at row index 2, column index 1 of `M1`\n",
    "**"
   ]
  },
  {
   "cell_type": "code",
   "execution_count": 36,
   "metadata": {},
   "outputs": [
    {
     "data": {
      "text/plain": [
       "89"
      ]
     },
     "execution_count": 36,
     "metadata": {},
     "output_type": "execute_result"
    }
   ],
   "source": []
  },
  {
   "cell_type": "markdown",
   "metadata": {
    "collapsed": true
   },
   "source": [
    "**$\\Rightarrow$\n",
    "Slice the array `M1` below to get the required sub-array\n",
    "**\n",
    "```\n",
    "array([[45, 48, 65, 68, 68],\n",
    "       [10, 84, 22, 37, 88],\n",
    "       [71, 89, 89, 13, 59]])\n",
    "```"
   ]
  },
  {
   "cell_type": "code",
   "execution_count": 45,
   "metadata": {},
   "outputs": [
    {
     "data": {
      "text/plain": [
       "array([[65, 68],\n",
       "       [22, 37]])"
      ]
     },
     "execution_count": 45,
     "metadata": {},
     "output_type": "execute_result"
    }
   ],
   "source": []
  },
  {
   "cell_type": "markdown",
   "metadata": {
    "collapsed": true
   },
   "source": [
    "** OPTIONAL $\\Rightarrow$\n",
    "Use the jupyter magic command `%timeit` to compare the efficiency of calculating the sum in three ways\n",
    "**\n",
    "1. a for loop\n",
    "2. the Python built-in `sum()`\n",
    "3. the Numpy vectorized `np.sum()`"
   ]
  },
  {
   "cell_type": "code",
   "execution_count": 46,
   "metadata": {
    "collapsed": true
   },
   "outputs": [],
   "source": [
    "arr = rs.randint(0, 100, 1000000)"
   ]
  },
  {
   "cell_type": "code",
   "execution_count": 47,
   "metadata": {},
   "outputs": [
    {
     "name": "stdout",
     "output_type": "stream",
     "text": [
      "10 loops, best of 3: 89.8 ms per loop\n"
     ]
    }
   ],
   "source": [
    "\n"
   ]
  },
  {
   "cell_type": "code",
   "execution_count": 49,
   "metadata": {},
   "outputs": [
    {
     "name": "stdout",
     "output_type": "stream",
     "text": [
      "10 loops, best of 3: 71.7 ms per loop\n"
     ]
    }
   ],
   "source": [
    "\n"
   ]
  },
  {
   "cell_type": "code",
   "execution_count": 50,
   "metadata": {},
   "outputs": [
    {
     "name": "stdout",
     "output_type": "stream",
     "text": [
      "1000 loops, best of 3: 439 µs per loop\n"
     ]
    }
   ],
   "source": [
    "\n"
   ]
  },
  {
   "cell_type": "markdown",
   "metadata": {},
   "source": [
    "<hr>\n",
    "## Finished !"
   ]
  }
 ],
 "metadata": {
  "kernelspec": {
   "display_name": "Python 3",
   "language": "python",
   "name": "python3"
  },
  "language_info": {
   "codemirror_mode": {
    "name": "ipython",
    "version": 3
   },
   "file_extension": ".py",
   "mimetype": "text/x-python",
   "name": "python",
   "nbconvert_exporter": "python",
   "pygments_lexer": "ipython3",
   "version": "3.6.4"
  }
 },
 "nbformat": 4,
 "nbformat_minor": 2
}
